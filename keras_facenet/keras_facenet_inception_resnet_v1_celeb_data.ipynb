{
 "cells": [
  {
   "cell_type": "code",
   "execution_count": 1,
   "id": "d1e70d23",
   "metadata": {},
   "outputs": [
    {
     "data": {
      "application/javascript": [
       "IPython.notebook.set_autosave_interval(30000)"
      ]
     },
     "metadata": {},
     "output_type": "display_data"
    },
    {
     "name": "stdout",
     "output_type": "stream",
     "text": [
      "Autosaving every 30 seconds\n"
     ]
    }
   ],
   "source": [
    "%autosave 30\n",
    "%matplotlib inline\n",
    "# for tips: https://www.kaggle.com/prakharprasad/facerecognition-facenet-cnnclassifier"
   ]
  },
  {
   "cell_type": "markdown",
   "id": "7029a2f4",
   "metadata": {},
   "source": [
    "# Basics\n",
    "\n",
    "**FaceNet**\n",
    "* FaceNet is a face recognition system that was described by Florian Schroff, et al. at Google in their 2015 paper titled “FaceNet: A Unified Embedding for Face Recognition and Clustering.”\n",
    "* It is a system that, given a picture of a face, will extract high-quality features from the face and predict a 128 element vector representation these features, called a face embedding."
   ]
  },
  {
   "cell_type": "markdown",
   "id": "42655697",
   "metadata": {},
   "source": [
    "## Import liberaries"
   ]
  },
  {
   "cell_type": "code",
   "execution_count": 9,
   "id": "c792a5a7",
   "metadata": {},
   "outputs": [
    {
     "name": "stdout",
     "output_type": "stream",
     "text": [
      "python version: 3.7.12\n"
     ]
    }
   ],
   "source": [
    "import os\n",
    "import sys\n",
    "import random\n",
    "import numpy as np\n",
    "import matplotlib.pyplot as plt\n",
    "\n",
    "# Python Imaging Library (PIL) by Fredrik Lundh\n",
    "from PIL import Image  \n",
    "from keras.models import load_model\n",
    "\n",
    "# Multi-task Cascaded Convolutional Networks (MTCNN)\n",
    "from mtcnn.mtcnn import MTCNN\n",
    "\n",
    "# For classification of different faces, SVC\n",
    "from sklearn.svm import SVC\n",
    "from sklearn.preprocessing import LabelEncoder, Normalizer\n",
    "from sklearn.metrics import accuracy_score\n",
    "\n",
    "from platform import python_version\n",
    "print(f\"python version: {python_version()}\")"
   ]
  },
  {
   "cell_type": "markdown",
   "id": "a55d2d79",
   "metadata": {},
   "source": [
    "## MCTNN\n",
    "* Multi-task Cascaded Convolutional Networks (MTCNN) is a framework developed by David Sandberg as a solution for both face detection and face alignment. \n",
    "* The process consists of three stages of convolutional networks that are able to recognize faces and landmark location such as eyes, nose, and mouth."
   ]
  },
  {
   "cell_type": "code",
   "execution_count": 3,
   "id": "60a90bdb",
   "metadata": {},
   "outputs": [
    {
     "name": "stdout",
     "output_type": "stream",
     "text": [
      "0.1.0\n"
     ]
    }
   ],
   "source": [
    "import mtcnn\n",
    "print(mtcnn.__version__)"
   ]
  },
  {
   "cell_type": "markdown",
   "id": "672f0d5e",
   "metadata": {},
   "source": [
    "## Saved Facenet Model"
   ]
  },
  {
   "cell_type": "code",
   "execution_count": 4,
   "id": "6aef2842",
   "metadata": {},
   "outputs": [
    {
     "name": "stderr",
     "output_type": "stream",
     "text": [
      "2021-10-22 11:03:20.328225: I tensorflow/core/platform/cpu_feature_guard.cc:142] This TensorFlow binary is optimized with oneAPI Deep Neural Network Library (oneDNN) to use the following CPU instructions in performance-critical operations:  AVX2 FMA\n",
      "To enable them in other operations, rebuild TensorFlow with the appropriate compiler flags.\n"
     ]
    },
    {
     "name": "stdout",
     "output_type": "stream",
     "text": [
      "WARNING:tensorflow:No training configuration found in the save file, so the model was *not* compiled. Compile it manually.\n",
      "Input: [<KerasTensor: shape=(None, 160, 160, 3) dtype=float32 (created by layer 'input_1')>]\n",
      "Output: [<KerasTensor: shape=(None, 128) dtype=float32 (created by layer 'Bottleneck_BatchNorm')>]\n"
     ]
    }
   ],
   "source": [
    "## Get the general path for saved model\n",
    "path_saved_model=os.environ.get('DirForSavedModel')+'/face_recognisition/'\n",
    "model=load_model(path_saved_model+'facenet_keras.h5')\n",
    "\n",
    "print(f\"Input: {model.inputs}\")\n",
    "print(f\"Output: {model.outputs}\")"
   ]
  },
  {
   "cell_type": "markdown",
   "id": "92c98861",
   "metadata": {},
   "source": [
    "# Dataset"
   ]
  },
  {
   "cell_type": "markdown",
   "id": "7042581d",
   "metadata": {},
   "source": [
    "## Download Kaggle dataset"
   ]
  },
  {
   "cell_type": "code",
   "execution_count": 6,
   "id": "929fadf9",
   "metadata": {},
   "outputs": [
    {
     "name": "stdout",
     "output_type": "stream",
     "text": [
      "Help on function upload_kaggle_dataset in module download_kaggle_data:\n",
      "\n",
      "upload_kaggle_dataset(kaggle_dataset_name, base_dir_name)\n",
      "    kaggle_dataset_name: name of the dataset to be downloaded, \n",
      "    base_dir_name: some directory where it suppose to be downloaded\n",
      "\n"
     ]
    }
   ],
   "source": [
    "sys.path.append(os.environ.get('DirForPoolScripts'))\n",
    "from download_kaggle_data import upload_kaggle_dataset"
   ]
  },
  {
   "cell_type": "code",
   "execution_count": 10,
   "id": "ba15e549",
   "metadata": {},
   "outputs": [],
   "source": [
    "base_dir = os.environ.get('DirForSavedModel')\n",
    "dataset_name = 'dansbecker/5-celebrity-faces-dataset'\n",
    "facenet_model = 'facenet-keras'\n",
    "#upload_kaggle_dataset(base_dir_name=base_dir, kaggle_dataset_name=facenet_model)"
   ]
  },
  {
   "cell_type": "markdown",
   "id": "d43680df",
   "metadata": {},
   "source": [
    "# Data Preprocessing"
   ]
  },
  {
   "cell_type": "markdown",
   "id": "4e13d4e3",
   "metadata": {},
   "source": [
    "## Extract facial features\n",
    "´detector=MTCNN()´\n",
    "* The detector returns a list of JSON objects. Each JSON object contains three main keys: 'box', 'confidence' and 'keypoints':\n",
    "    - The bounding box is formatted as [x, y, width, height] under the key 'box'.\n",
    "    - The confidence is the probability for a bounding box to be matching a face.\n",
    "    - The keypoints are formatted into a JSON object with the keys 'left_eye', 'right_eye', 'nose', 'mouth_left', 'mouth_right'. Each keypoint is identified by a pixel position (x, y)."
   ]
  },
  {
   "cell_type": "code",
   "execution_count": null,
   "id": "4042b0f0",
   "metadata": {},
   "outputs": [],
   "source": [
    "from matplotlib.patches import Rectangle\n",
    "\n",
    "def draw_image_with_boxes(filename, feature_coordinate):\n",
    "    data = plt.imread(filename)\n",
    "    plt.imshow(data)\n",
    "    # get the context for drawing boxes\n",
    "    ax = plt.gca()\n",
    "\n",
    "    for cordinate in feature_coordinate:\n",
    "        # get coordinates\n",
    "        x, y, width, height = cordinate['box']\n",
    "        # create the shape\n",
    "        rect = Rectangle((x, y), width, height, fill=False, color='red')\n",
    "        ax.add_patch(rect)\n",
    "    plt.show()"
   ]
  },
  {
   "cell_type": "code",
   "execution_count": null,
   "id": "9c07f38d",
   "metadata": {},
   "outputs": [],
   "source": [
    "image_name = ben_dir+'httpcsvkmeuaeccjpg.jpg'\n",
    "image = Image.open(image_name)\n",
    "image = image.convert('RGB')\n",
    "pixels = np.asarray(image)\n",
    "detector=MTCNN()\n",
    "faces=detector.detect_faces(pixels)\n",
    "draw_image_with_boxes(image_name, faces)"
   ]
  },
  {
   "cell_type": "code",
   "execution_count": null,
   "id": "ac2527f8",
   "metadata": {},
   "outputs": [],
   "source": [
    "def extract_face(filename, required_size=(160, 160), show_features=False):\n",
    "    # load image from file\n",
    "    image = Image.open(filename)\n",
    "    image = image.convert('RGB')\n",
    "    pixels = np.asarray(image)\n",
    "    \n",
    "    # create the detector, using default weights\n",
    "    detector = MTCNN()\n",
    "    \n",
    "    # detect faces in the image\n",
    "    face = detector.detect_faces(pixels)\n",
    "    if show_features:\n",
    "        draw_image_with_boxes(filename, face)\n",
    "        print(f\"Extracted features: \\n {face}\")\n",
    "    # extract the bounding box from the first face\n",
    "    x1, y1, width, height = face[0]['box']\n",
    "    # bug fix\n",
    "    x1, y1 = abs(x1), abs(y1)\n",
    "    x2, y2 = x1 + width, y1 + height\n",
    "    # extract the face\n",
    "    face = pixels[y1:y2, x1:x2]\n",
    "    # resize pixels to the model size\n",
    "    image = Image.fromarray(face)\n",
    "    image = image.resize(required_size)\n",
    "    face_array = np.asarray(image)\n",
    "    return face_array"
   ]
  },
  {
   "cell_type": "code",
   "execution_count": null,
   "id": "46bf5de0",
   "metadata": {},
   "outputs": [],
   "source": [
    "base_dir = os.environ.get('DirForImages')+'/5-celebrity-faces-dataset/'\n",
    "ben_dir  = base_dir + '/train/ben_afflek/'\n",
    "madonna_dir  = base_dir + '/train/madonna/'\n",
    "\n",
    "# load the photo and extract the face\n",
    "pixels = extract_face(ben_dir+'httpcsvkmeuaeccjpg.jpg', show_features=True)\n",
    "plt.imshow(pixels)"
   ]
  },
  {
   "cell_type": "code",
   "execution_count": null,
   "id": "b4c7377a",
   "metadata": {},
   "outputs": [],
   "source": [
    "from PIL import Image\n",
    "image_name = ben_dir+'httpcsvkmeuaeccjpg.jpg'\n",
    "with Image.open(image_name) as im:\n",
    "    im.rotate(45).show()\n",
    "    im."
   ]
  },
  {
   "cell_type": "code",
   "execution_count": null,
   "id": "8162e823",
   "metadata": {},
   "outputs": [],
   "source": [
    "# specify folder to plot\n",
    "i = 1\n",
    "# enumerate files\n",
    "for filename in os.listdir(ben_dir):\n",
    "    path = ben_dir + filename\n",
    "    face = extract_face(path)\n",
    "    print(i, face.shape)\n",
    "    plt.subplot(2, 7, i)\n",
    "    plt.axis('off')\n",
    "    plt.imshow(face)\n",
    "    i += 1\n",
    "plt.show()"
   ]
  },
  {
   "cell_type": "code",
   "execution_count": null,
   "id": "38eb366e",
   "metadata": {},
   "outputs": [],
   "source": [
    "# load images and extract faces for all images in a directory\n",
    "def load_faces(directory):\n",
    "    faces = list()\n",
    "    for filename in os.listdir(directory):\n",
    "        path = directory + filename\n",
    "        face = extract_face(path)\n",
    "        faces.append(face)\n",
    "    return faces"
   ]
  },
  {
   "cell_type": "code",
   "execution_count": null,
   "id": "7735b98d",
   "metadata": {},
   "outputs": [],
   "source": [
    "# load a dataset that contains one subdir for each class that in turn contains images\n",
    "def load_dataset(directory):\n",
    "    X, y = list(), list()\n",
    "\n",
    "    for subdir in os.listdir(directory):\n",
    "        path = directory + subdir + '/'\n",
    "        \n",
    "        # skip any files that might be in the dir\n",
    "        if not os.path.isdir(path):\n",
    "            continue\n",
    "            \n",
    "        faces = load_faces(path)\n",
    "        \n",
    "        # create labels\n",
    "        labels = [subdir for _ in range(len(faces))]\n",
    "        # summarize progress\n",
    "        print('>loaded %d examples for class: %s' % (len(faces), subdir))\n",
    "        \n",
    "        # store\n",
    "        X.extend(faces)\n",
    "        y.extend(labels)\n",
    "    return np.asarray(X), np.asarray(y)"
   ]
  },
  {
   "cell_type": "code",
   "execution_count": null,
   "id": "0845bbd6",
   "metadata": {},
   "outputs": [],
   "source": [
    "# load train dataset\n",
    "trainX, trainy = load_dataset(base_dir+'train/')\n",
    "testX, testy = load_dataset(base_dir+'/val/')\n",
    "print(trainX.shape, trainy.shape)\n",
    "\n",
    "# save arrays to one file in compressed format\n",
    "np.savez_compressed('5-celebrity-faces-dataset.npz', trainX, trainy, testX, testy)"
   ]
  },
  {
   "cell_type": "markdown",
   "id": "f6078cb5",
   "metadata": {},
   "source": [
    "# Modelling"
   ]
  },
  {
   "cell_type": "markdown",
   "id": "5c34e923",
   "metadata": {},
   "source": [
    "## Face Embedding via Facenet"
   ]
  },
  {
   "cell_type": "code",
   "execution_count": null,
   "id": "72222f98",
   "metadata": {},
   "outputs": [],
   "source": [
    "# get the face embedding for one face\n",
    "def get_embedding(model, face_pixels):\n",
    "    # scale pixel values\n",
    "    face_pixels = face_pixels.astype('float32')\n",
    "    # standardize pixel values across channels (global)\n",
    "    mean, std = face_pixels.mean(), face_pixels.std()\n",
    "    face_pixels = (face_pixels - mean) / std\n",
    "    # transform face into one sample\n",
    "    samples = np.expand_dims(face_pixels, axis=0)\n",
    "    # make prediction to get embedding\n",
    "    yhat = model.predict(samples)\n",
    "    return yhat[0]\n",
    "\n",
    "# load the face dataset\n",
    "data = np.load('5-celebrity-faces-dataset.npz')\n",
    "trainX, trainy, testX, testy = data['arr_0'], data['arr_1'], data['arr_2'], data['arr_3']\n",
    "print('Loaded: ', trainX.shape, trainy.shape, testX.shape, testy.shape)\n",
    "# load the facenet model\n",
    "path_saved_model=os.environ.get('DirForSavedModel')+'/face_recognisition/'\n",
    "model=load_model(path_saved_model+'facenet_keras.h5')\n",
    "print('Loaded Model')\n",
    "\n",
    "# convert each face in the train set to an embedding\n",
    "newTrainX = list()\n",
    "for face_pixels in trainX:\n",
    "    embedding = get_embedding(model, face_pixels)\n",
    "    newTrainX.append(embedding)\n",
    "newTrainX = np.asarray(newTrainX)\n",
    "print(newTrainX.shape)\n",
    "\n",
    "# convert each face in the test set to an embedding\n",
    "newTestX = list()\n",
    "for face_pixels in testX:\n",
    "    embedding = get_embedding(model, face_pixels)\n",
    "    newTestX.append(embedding)\n",
    "newTestX = np.asarray(newTestX)\n",
    "print(newTestX.shape)\n",
    "\n",
    "# save arrays to one file in compressed format\n",
    "np.savez_compressed('5-celebrity-faces-embeddings.npz', newTrainX, trainy, newTestX, testy)"
   ]
  },
  {
   "cell_type": "markdown",
   "id": "7a5f6e0f",
   "metadata": {},
   "source": [
    "## Classifier"
   ]
  },
  {
   "cell_type": "code",
   "execution_count": null,
   "id": "998a2510",
   "metadata": {},
   "outputs": [],
   "source": [
    "# develop a classifier for the 5 Celebrity Faces Dataset\n",
    "# load dataset\n",
    "data = np.load('5-celebrity-faces-embeddings.npz')\n",
    "trainX, trainy, testX, testy = data['arr_0'], data['arr_1'], data['arr_2'], data['arr_3']\n",
    "print('Dataset: train=%d, test=%d' % (trainX.shape[0], testX.shape[0]))\n",
    "\n",
    "# normalize input vectors\n",
    "in_encoder = Normalizer(norm='l2')\n",
    "trainX = in_encoder.transform(trainX)\n",
    "testX = in_encoder.transform(testX)\n",
    "\n",
    "# label encode targets\n",
    "out_encoder = LabelEncoder()\n",
    "out_encoder.fit(trainy)\n",
    "trainy = out_encoder.transform(trainy)\n",
    "testy = out_encoder.transform(testy)\n",
    "\n",
    "# fit model\n",
    "model = SVC(kernel='linear', probability=True)\n",
    "model.fit(trainX, trainy)\n",
    "yhat_train = model.predict(trainX)\n",
    "yhat_test = model.predict(testX)\n",
    "score_train = accuracy_score(trainy, yhat_train)\n",
    "score_test = accuracy_score(testy, yhat_test)\n",
    "# summarize\n",
    "print('Accuracy: train=%.3f, test=%.3f' % (score_train*100, score_test*100))"
   ]
  },
  {
   "cell_type": "markdown",
   "id": "a006f97d",
   "metadata": {},
   "source": [
    "## Testing on test-images"
   ]
  },
  {
   "cell_type": "code",
   "execution_count": null,
   "id": "088639f4",
   "metadata": {},
   "outputs": [],
   "source": [
    "# load faces\n",
    "data = np.load('5-celebrity-faces-dataset.npz')\n",
    "testX_faces = data['arr_2']\n",
    "\n",
    "# test model on a random example from the test dataset\n",
    "selection          = random.choice([i for i in range(testX.shape[0])])\n",
    "random_face_pixels = testX_faces[selection]\n",
    "random_face_emb    = testX[selection]\n",
    "random_face_class  = testy[selection]\n",
    "random_face_name   = out_encoder.inverse_transform([random_face_class])\n",
    "\n",
    "# prediction for the face\n",
    "samples    = np.expand_dims(random_face_emb, axis=0)\n",
    "yhat_class = model.predict(samples)\n",
    "yhat_prob  = model.predict_proba(samples)\n",
    "\n",
    "# get name\n",
    "class_index       = yhat_class[0]\n",
    "class_probability = yhat_prob[0,class_index] * 100\n",
    "predict_names     = out_encoder.inverse_transform(yhat_class)\n",
    "print('Predicted: %s (%.3f)' % (predict_names[0], class_probability))\n",
    "print('Expected: %s' % random_face_name[0])\n",
    "\n",
    "# plot for fun\n",
    "plt.imshow(random_face_pixels)\n",
    "title = '%s (%.3f)' % (predict_names[0], class_probability)\n",
    "plt.title(title)\n",
    "plt.show()"
   ]
  }
 ],
 "metadata": {
  "kernelspec": {
   "display_name": "Python@3.7",
   "language": "python",
   "name": "python3.7"
  },
  "language_info": {
   "codemirror_mode": {
    "name": "ipython",
    "version": 3
   },
   "file_extension": ".py",
   "mimetype": "text/x-python",
   "name": "python",
   "nbconvert_exporter": "python",
   "pygments_lexer": "ipython3",
   "version": "3.7.12"
  },
  "toc": {
   "base_numbering": 1,
   "nav_menu": {},
   "number_sections": true,
   "sideBar": true,
   "skip_h1_title": false,
   "title_cell": "Table of Contents",
   "title_sidebar": "Contents",
   "toc_cell": false,
   "toc_position": {
    "height": "calc(100% - 180px)",
    "left": "10px",
    "top": "150px",
    "width": "301.9021911621094px"
   },
   "toc_section_display": true,
   "toc_window_display": true
  }
 },
 "nbformat": 4,
 "nbformat_minor": 5
}
