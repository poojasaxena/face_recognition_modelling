{
 "cells": [
  {
   "cell_type": "code",
   "execution_count": 1,
   "id": "d1e70d23",
   "metadata": {},
   "outputs": [
    {
     "data": {
      "application/javascript": [
       "IPython.notebook.set_autosave_interval(30000)"
      ]
     },
     "metadata": {},
     "output_type": "display_data"
    },
    {
     "name": "stdout",
     "output_type": "stream",
     "text": [
      "Autosaving every 30 seconds\n"
     ]
    }
   ],
   "source": [
    "%autosave 30\n",
    "%matplotlib inline\n",
    "# for tips: https://www.kaggle.com/prakharprasad/facerecognition-facenet-cnnclassifier"
   ]
  },
  {
   "cell_type": "markdown",
   "id": "7029a2f4",
   "metadata": {},
   "source": [
    "# Basics\n",
    "\n",
    "**FaceNet**\n",
    "* FaceNet is a face recognition system that was described by Florian Schroff, et al. at Google in their 2015 paper titled “FaceNet: A Unified Embedding for Face Recognition and Clustering.”\n",
    "* It is a system that, given a picture of a face, will extract high-quality features from the face and predict a 128 element vector representation these features, called a face embedding."
   ]
  },
  {
   "cell_type": "markdown",
   "id": "42655697",
   "metadata": {},
   "source": [
    "## Import liberaries"
   ]
  },
  {
   "cell_type": "code",
   "execution_count": 2,
   "id": "c792a5a7",
   "metadata": {},
   "outputs": [
    {
     "name": "stdout",
     "output_type": "stream",
     "text": [
      "python version: 3.7.12\n"
     ]
    }
   ],
   "source": [
    "import os\n",
    "import sys\n",
    "import random\n",
    "import numpy as np\n",
    "import matplotlib\n",
    "import matplotlib.pyplot as plt\n",
    "from matplotlib.patches import Rectangle\n",
    "\n",
    "# Python Imaging Library (PIL) by Fredrik Lundh\n",
    "from PIL import Image  \n",
    "from keras.models import load_model\n",
    "\n",
    "# Multi-task Cascaded Convolutional Networks (MTCNN)\n",
    "from mtcnn.mtcnn import MTCNN\n",
    "\n",
    "# For classification of different faces, SVC\n",
    "from sklearn.svm import SVC\n",
    "from sklearn.preprocessing import LabelEncoder, Normalizer\n",
    "from sklearn.metrics import accuracy_score\n",
    "\n",
    "from platform import python_version\n",
    "print(f\"python version: {python_version()}\")"
   ]
  },
  {
   "cell_type": "markdown",
   "id": "a55d2d79",
   "metadata": {},
   "source": [
    "## MCTNN\n",
    "* Multi-task Cascaded Convolutional Networks (MTCNN) is a framework developed by David Sandberg as a solution for both face detection and face alignment. \n",
    "* The process consists of three stages of convolutional networks that are able to recognize faces and landmark location such as eyes, nose, and mouth."
   ]
  },
  {
   "cell_type": "code",
   "execution_count": 3,
   "id": "60a90bdb",
   "metadata": {},
   "outputs": [
    {
     "name": "stdout",
     "output_type": "stream",
     "text": [
      "0.1.0\n"
     ]
    }
   ],
   "source": [
    "import mtcnn\n",
    "print(mtcnn.__version__)"
   ]
  },
  {
   "cell_type": "markdown",
   "id": "672f0d5e",
   "metadata": {},
   "source": [
    "## Saved Facenet Model"
   ]
  },
  {
   "cell_type": "code",
   "execution_count": 4,
   "id": "6aef2842",
   "metadata": {},
   "outputs": [
    {
     "name": "stderr",
     "output_type": "stream",
     "text": [
      "2021-10-22 14:08:40.309301: I tensorflow/core/platform/cpu_feature_guard.cc:142] This TensorFlow binary is optimized with oneAPI Deep Neural Network Library (oneDNN) to use the following CPU instructions in performance-critical operations:  AVX2 FMA\n",
      "To enable them in other operations, rebuild TensorFlow with the appropriate compiler flags.\n"
     ]
    },
    {
     "name": "stdout",
     "output_type": "stream",
     "text": [
      "WARNING:tensorflow:No training configuration found in the save file, so the model was *not* compiled. Compile it manually.\n",
      "Input: [<KerasTensor: shape=(None, 160, 160, 3) dtype=float32 (created by layer 'input_1')>]\n",
      "Output: [<KerasTensor: shape=(None, 128) dtype=float32 (created by layer 'Bottleneck_BatchNorm')>]\n"
     ]
    }
   ],
   "source": [
    "## Get the general path for saved model\n",
    "path_saved_model=os.environ.get('DirForSavedModel')+'/face_recognisition/'\n",
    "model=load_model(path_saved_model+'facenet_keras.h5')\n",
    "\n",
    "print(f\"Input: {model.inputs}\")\n",
    "print(f\"Output: {model.outputs}\")"
   ]
  },
  {
   "cell_type": "markdown",
   "id": "92c98861",
   "metadata": {},
   "source": [
    "# Dataset"
   ]
  },
  {
   "cell_type": "markdown",
   "id": "7042581d",
   "metadata": {},
   "source": [
    "## Download Kaggle dataset"
   ]
  },
  {
   "cell_type": "code",
   "execution_count": null,
   "id": "929fadf9",
   "metadata": {},
   "outputs": [],
   "source": [
    "sys.path.append(os.environ.get('DirForPoolScripts'))\n",
    "from download_kaggle_data import upload_kaggle_dataset"
   ]
  },
  {
   "cell_type": "code",
   "execution_count": null,
   "id": "ba15e549",
   "metadata": {},
   "outputs": [],
   "source": [
    "base_dir = os.environ.get('DirForSavedModel')\n",
    "dataset_name = 'dansbecker/5-celebrity-faces-dataset'\n",
    "facenet_model = 'facenet-keras'\n",
    "#upload_kaggle_dataset(base_dir_name=base_dir, kaggle_dataset_name=facenet_model)"
   ]
  },
  {
   "cell_type": "markdown",
   "id": "d43680df",
   "metadata": {},
   "source": [
    "# Data Preprocessing"
   ]
  },
  {
   "cell_type": "markdown",
   "id": "10a33340",
   "metadata": {},
   "source": [
    "## Define directory structure"
   ]
  },
  {
   "cell_type": "code",
   "execution_count": 23,
   "id": "75bc064e",
   "metadata": {},
   "outputs": [
    {
     "name": "stdout",
     "output_type": "stream",
     "text": [
      "sub_directories are ['train', 'data', 'val']\n",
      "['ben_afflek', 'madonna', 'elton_john', 'mindy_kaling', 'jerry_seinfeld']\n",
      "['base_dir_ben_afflek', 'base_dir_madonna', 'base_dir_elton_john', 'base_dir_mindy_kaling', 'base_dir_jerry_seinfeld']\n",
      "/Users/psaxena/Documents/images_for_testing/5-celebrity-faces-dataset/train/ben_afflek\n",
      "/Users/psaxena/Documents/images_for_testing/5-celebrity-faces-dataset/train/madonna\n",
      "/Users/psaxena/Documents/images_for_testing/5-celebrity-faces-dataset/train/elton_john\n",
      "/Users/psaxena/Documents/images_for_testing/5-celebrity-faces-dataset/train/mindy_kaling\n",
      "/Users/psaxena/Documents/images_for_testing/5-celebrity-faces-dataset/train/jerry_seinfeld\n"
     ]
    }
   ],
   "source": [
    "base_dir = os.environ.get('DirForImages')+'/5-celebrity-faces-dataset/'\n",
    "\n",
    "sub_dir_name = os.listdir(base_dir)\n",
    "print(f\"sub_directories are {sub_dir_name}\")\n",
    "\n",
    "base_dir_train = os.path.join(base_dir, sub_dir_name[0])\n",
    "base_dir_val   = os.path.join(base_dir, sub_dir_name[2])\n",
    "\n",
    "sub_sub_dir = os.listdir(os.path.join(base_dir,base_dir_train))\n",
    "print(sub_sub_dir)\n",
    "\n",
    "test=[\"base_dir_\" + s for s in sub_sub_dir]\n",
    "print(test)\n",
    "\n",
    "for dirs in sub_sub_dir:\n",
    "    sub_name = \"base_dir_\"+dirs\n",
    "    sub_name = os.path.join(base_dir_train, dirs)\n",
    "    print(sub_name)"
   ]
  },
  {
   "cell_type": "code",
   "execution_count": 20,
   "id": "3ec16168",
   "metadata": {},
   "outputs": [
    {
     "ename": "NameError",
     "evalue": "name 'base_dir_ben_afflek' is not defined",
     "output_type": "error",
     "traceback": [
      "\u001b[0;31m---------------------------------------------------------------------------\u001b[0m",
      "\u001b[0;31mNameError\u001b[0m                                 Traceback (most recent call last)",
      "\u001b[0;32m/var/folders/6n/xskqb5954jsfxw29ddrrqp74tqq6_x/T/ipykernel_13593/2560824374.py\u001b[0m in \u001b[0;36m<module>\u001b[0;34m\u001b[0m\n\u001b[0;32m----> 1\u001b[0;31m \u001b[0mbase_dir_ben_afflek\u001b[0m\u001b[0;34m\u001b[0m\u001b[0;34m\u001b[0m\u001b[0m\n\u001b[0m",
      "\u001b[0;31mNameError\u001b[0m: name 'base_dir_ben_afflek' is not defined"
     ]
    }
   ],
   "source": [
    "base_dir_ben_afflek"
   ]
  },
  {
   "cell_type": "code",
   "execution_count": null,
   "id": "a75dcfd7",
   "metadata": {},
   "outputs": [],
   "source": [
    "def draw_name_frequency_plot(dir_path):\n",
    "    label=[]\n",
    "    label_count=[]\n",
    "    for count, filename in enumerate(os.listdir(dir_path)):\n",
    "        label.append(filename)\n",
    "        label_count.append(len(os.listdir(os.path.join(dir_path, filename))))\n",
    "\n",
    "    c = ['green', 'yellow', 'cyan', 'gray', 'orange']\n",
    "    plt.rcParams[\"figure.figsize\"] = (16,5)\n",
    "    plt.bar(label, label_count, color=c)\n",
    "    plt.ylabel('count', fontsize=20)\n",
    "    plt.xticks(fontsize= 14)\n",
    "    plt.yticks(fontsize= 14)\n",
    "    plt.grid(True, linewidth= 1, linestyle=\"--\")\n",
    "    plt.show()  "
   ]
  },
  {
   "cell_type": "code",
   "execution_count": null,
   "id": "54f3e882",
   "metadata": {},
   "outputs": [],
   "source": [
    "path = os.path.join(base_dir, 'train')\n",
    "draw_name_frequency_plot(dir_path=path)"
   ]
  },
  {
   "cell_type": "markdown",
   "id": "4e13d4e3",
   "metadata": {},
   "source": [
    "## Extract facial features\n",
    "´detector=MTCNN()´\n",
    "* The detector returns a list of JSON objects. Each JSON object contains three main keys: 'box', 'confidence' and 'keypoints':\n",
    "    - The bounding box is formatted as [x, y, width, height] under the key 'box'.\n",
    "    - The confidence is the probability for a bounding box to be matching a face.\n",
    "    - The keypoints are formatted into a JSON object with the keys 'left_eye', 'right_eye', 'nose', 'mouth_left', 'mouth_right'. Each keypoint is identified by a pixel position (x, y)."
   ]
  },
  {
   "cell_type": "code",
   "execution_count": null,
   "id": "ec015f9e",
   "metadata": {},
   "outputs": [],
   "source": [
    "def draw_face_boundaries(filename, feature_coordinate):\n",
    "    data = plt.imread(filename)\n",
    "    plt.imshow(data)\n",
    "    # get the context for drawing boxes\n",
    "    ax = plt.gca()\n",
    "\n",
    "    for cordinate in feature_coordinate:\n",
    "        # get coordinates\n",
    "        x, y, width, height = cordinate['box']\n",
    "        # create the shape\n",
    "        rect = Rectangle((x, y), width, height, fill=False, color='red')\n",
    "        ax.add_patch(rect)\n",
    "    plt.show()"
   ]
  },
  {
   "cell_type": "code",
   "execution_count": null,
   "id": "ac2527f8",
   "metadata": {},
   "outputs": [],
   "source": [
    "def extract_face(filename, required_size=(160, 160), show_features=False):\n",
    "    \n",
    "    # pre-processing on file image\n",
    "    image = Image.open(filename)\n",
    "    image = image.convert('RGB')\n",
    "    pixels = np.asarray(image)\n",
    "    \n",
    "    # create the mtcnn detector using default weights\n",
    "    detector = MTCNN()\n",
    "    face = detector.detect_faces(pixels)\n",
    "    \n",
    "    if show_features:\n",
    "        draw_face_boundaries(filename, face)\n",
    "        print(f\"> Extracted features: \\n {face}\")\n",
    "\n",
    "    x1, y1, width, height = face[0]['box']\n",
    "    x1, y1 = abs(x1), abs(y1)\n",
    "    x2, y2 = x1 + width, y1 + height\n",
    "    \n",
    "    # extract the face\n",
    "    face = pixels[y1:y2, x1:x2]\n",
    "    # resize pixels to the model size\n",
    "    image = Image.fromarray(face)\n",
    "    image = image.resize(required_size)\n",
    "    face_array = np.asarray(image)\n",
    "    return face_array"
   ]
  },
  {
   "cell_type": "code",
   "execution_count": null,
   "id": "46bf5de0",
   "metadata": {},
   "outputs": [],
   "source": [
    "\n",
    "# load the photo and extract the face\n",
    "pixels = extract_face(ben_dir+'httpcsvkmeuaeccjpg.jpg', show_features=True)\n",
    "plt.imshow(pixels)"
   ]
  },
  {
   "cell_type": "code",
   "execution_count": null,
   "id": "127d6ec1",
   "metadata": {},
   "outputs": [],
   "source": [
    "def show_all_faces(dir_name):\n",
    "    nrows = 4\n",
    "    ncols = round(len(os.listdir(dir_name)) / nrows)\n",
    "    \n",
    "    for count, filename in enumerate(os.listdir(dir_name)):\n",
    "        path = dir_name + filename\n",
    "        face = extract_face(path)\n",
    "        plt.subplot(nrows, ncols, count+1)\n",
    "        plt.axis('off')\n",
    "        plt.imshow(face)\n",
    "    plt.show()"
   ]
  },
  {
   "cell_type": "code",
   "execution_count": null,
   "id": "2a466e3c",
   "metadata": {},
   "outputs": [],
   "source": [
    "show_all_faces(elton_john)"
   ]
  },
  {
   "cell_type": "code",
   "execution_count": null,
   "id": "38eb366e",
   "metadata": {},
   "outputs": [],
   "source": [
    "# load images and extract faces for all images in a directory\n",
    "def load_faces(directory):\n",
    "    faces = list()\n",
    "    for filename in os.listdir(directory):\n",
    "        path = directory + filename\n",
    "        face = extract_face(path)\n",
    "        faces.append(face)\n",
    "    return faces"
   ]
  },
  {
   "cell_type": "code",
   "execution_count": null,
   "id": "7735b98d",
   "metadata": {},
   "outputs": [],
   "source": [
    "# load a dataset that contains one subdir for each class that in turn contains images\n",
    "def load_dataset(directory):\n",
    "    X, y = list(), list()\n",
    "\n",
    "    for subdir in os.listdir(directory):\n",
    "        path = directory + subdir + '/'\n",
    "        \n",
    "        # skip any files that might be in the dir\n",
    "        if not os.path.isdir(path):\n",
    "            continue\n",
    "            \n",
    "        faces = load_faces(path)\n",
    "        \n",
    "        # create labels\n",
    "        labels = [subdir for _ in range(len(faces))]\n",
    "        # summarize progress\n",
    "        print('>loaded %d examples for class: %s' % (len(faces), subdir))\n",
    "        \n",
    "        # store\n",
    "        X.extend(faces)\n",
    "        y.extend(labels)\n",
    "    return np.asarray(X), np.asarray(y)"
   ]
  },
  {
   "cell_type": "code",
   "execution_count": null,
   "id": "0845bbd6",
   "metadata": {},
   "outputs": [],
   "source": [
    "# load train dataset\n",
    "trainX, trainy = load_dataset(base_dir+'train/')\n",
    "testX, testy = load_dataset(base_dir+'/val/')\n",
    "print(trainX.shape, trainy.shape)\n",
    "\n",
    "# save arrays to one file in compressed format\n",
    "np.savez_compressed('5-celebrity-faces-dataset.npz', trainX, trainy, testX, testy)"
   ]
  },
  {
   "cell_type": "markdown",
   "id": "f6078cb5",
   "metadata": {},
   "source": [
    "# Modelling"
   ]
  },
  {
   "cell_type": "markdown",
   "id": "5c34e923",
   "metadata": {},
   "source": [
    "## Face Embedding via Facenet"
   ]
  },
  {
   "cell_type": "code",
   "execution_count": null,
   "id": "72222f98",
   "metadata": {},
   "outputs": [],
   "source": [
    "# get the face embedding for one face\n",
    "def get_embedding(model, face_pixels):\n",
    "    # scale pixel values\n",
    "    face_pixels = face_pixels.astype('float32')\n",
    "    # standardize pixel values across channels (global)\n",
    "    mean, std = face_pixels.mean(), face_pixels.std()\n",
    "    face_pixels = (face_pixels - mean) / std\n",
    "    # transform face into one sample\n",
    "    samples = np.expand_dims(face_pixels, axis=0)\n",
    "    # make prediction to get embedding\n",
    "    yhat = model.predict(samples)\n",
    "    return yhat[0]\n",
    "\n",
    "# load the face dataset\n",
    "data = np.load('5-celebrity-faces-dataset.npz')\n",
    "trainX, trainy, testX, testy = data['arr_0'], data['arr_1'], data['arr_2'], data['arr_3']\n",
    "print('Loaded: ', trainX.shape, trainy.shape, testX.shape, testy.shape)\n",
    "# load the facenet model\n",
    "path_saved_model=os.environ.get('DirForSavedModel')+'/face_recognisition/'\n",
    "model=load_model(path_saved_model+'facenet_keras.h5')\n",
    "print('Loaded Model')\n",
    "\n",
    "# convert each face in the train set to an embedding\n",
    "newTrainX = list()\n",
    "for face_pixels in trainX:\n",
    "    embedding = get_embedding(model, face_pixels)\n",
    "    newTrainX.append(embedding)\n",
    "newTrainX = np.asarray(newTrainX)\n",
    "print(newTrainX.shape)\n",
    "\n",
    "# convert each face in the test set to an embedding\n",
    "newTestX = list()\n",
    "for face_pixels in testX:\n",
    "    embedding = get_embedding(model, face_pixels)\n",
    "    newTestX.append(embedding)\n",
    "newTestX = np.asarray(newTestX)\n",
    "print(newTestX.shape)\n",
    "\n",
    "# save arrays to one file in compressed format\n",
    "np.savez_compressed('5-celebrity-faces-embeddings.npz', newTrainX, trainy, newTestX, testy)"
   ]
  },
  {
   "cell_type": "markdown",
   "id": "7a5f6e0f",
   "metadata": {},
   "source": [
    "## Classifier"
   ]
  },
  {
   "cell_type": "code",
   "execution_count": null,
   "id": "998a2510",
   "metadata": {},
   "outputs": [],
   "source": [
    "# develop a classifier for the 5 Celebrity Faces Dataset\n",
    "# load dataset\n",
    "data = np.load('5-celebrity-faces-embeddings.npz')\n",
    "trainX, trainy, testX, testy = data['arr_0'], data['arr_1'], data['arr_2'], data['arr_3']\n",
    "print('Dataset: train=%d, test=%d' % (trainX.shape[0], testX.shape[0]))\n",
    "\n",
    "# normalize input vectors\n",
    "in_encoder = Normalizer(norm='l2')\n",
    "trainX = in_encoder.transform(trainX)\n",
    "testX = in_encoder.transform(testX)\n",
    "\n",
    "# label encode targets\n",
    "out_encoder = LabelEncoder()\n",
    "out_encoder.fit(trainy)\n",
    "trainy = out_encoder.transform(trainy)\n",
    "testy = out_encoder.transform(testy)\n",
    "\n",
    "# fit model\n",
    "model = SVC(kernel='linear', probability=True)\n",
    "model.fit(trainX, trainy)\n",
    "yhat_train = model.predict(trainX)\n",
    "yhat_test = model.predict(testX)\n",
    "score_train = accuracy_score(trainy, yhat_train)\n",
    "score_test = accuracy_score(testy, yhat_test)\n",
    "# summarize\n",
    "print('Accuracy: train=%.3f, test=%.3f' % (score_train*100, score_test*100))"
   ]
  },
  {
   "cell_type": "markdown",
   "id": "a006f97d",
   "metadata": {},
   "source": [
    "## Testing on test-images"
   ]
  },
  {
   "cell_type": "code",
   "execution_count": null,
   "id": "088639f4",
   "metadata": {},
   "outputs": [],
   "source": [
    "# load faces\n",
    "data = np.load('5-celebrity-faces-dataset.npz')\n",
    "testX_faces = data['arr_2']\n",
    "\n",
    "# test model on a random example from the test dataset\n",
    "selection          = random.choice([i for i in range(testX.shape[0])])\n",
    "random_face_pixels = testX_faces[selection]\n",
    "random_face_emb    = testX[selection]\n",
    "random_face_class  = testy[selection]\n",
    "random_face_name   = out_encoder.inverse_transform([random_face_class])\n",
    "\n",
    "# prediction for the face\n",
    "samples    = np.expand_dims(random_face_emb, axis=0)\n",
    "yhat_class = model.predict(samples)\n",
    "yhat_prob  = model.predict_proba(samples)\n",
    "\n",
    "# get name\n",
    "class_index       = yhat_class[0]\n",
    "class_probability = yhat_prob[0,class_index] * 100\n",
    "predict_names     = out_encoder.inverse_transform(yhat_class)\n",
    "print('Predicted: %s (%.3f)' % (predict_names[0], class_probability))\n",
    "print('Expected: %s' % random_face_name[0])\n",
    "\n",
    "# plot for fun\n",
    "plt.imshow(random_face_pixels)\n",
    "title = '%s (%.3f)' % (predict_names[0], class_probability)\n",
    "plt.title(title)\n",
    "plt.show()"
   ]
  }
 ],
 "metadata": {
  "kernelspec": {
   "display_name": "Python@3.7",
   "language": "python",
   "name": "python3.7"
  },
  "language_info": {
   "codemirror_mode": {
    "name": "ipython",
    "version": 3
   },
   "file_extension": ".py",
   "mimetype": "text/x-python",
   "name": "python",
   "nbconvert_exporter": "python",
   "pygments_lexer": "ipython3",
   "version": "3.7.12"
  },
  "toc": {
   "base_numbering": 1,
   "nav_menu": {},
   "number_sections": true,
   "sideBar": true,
   "skip_h1_title": false,
   "title_cell": "Table of Contents",
   "title_sidebar": "Contents",
   "toc_cell": false,
   "toc_position": {
    "height": "calc(100% - 180px)",
    "left": "10px",
    "top": "150px",
    "width": "301.9021911621094px"
   },
   "toc_section_display": true,
   "toc_window_display": true
  }
 },
 "nbformat": 4,
 "nbformat_minor": 5
}
